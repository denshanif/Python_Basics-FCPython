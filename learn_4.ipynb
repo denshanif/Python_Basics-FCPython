{
  "nbformat": 4,
  "nbformat_minor": 0,
  "metadata": {
    "colab": {
      "name": "learn-4.ipynb",
      "provenance": [],
      "authorship_tag": "ABX9TyMn/pPTqzXj6n+ncg70v6O2",
      "include_colab_link": true
    },
    "kernelspec": {
      "name": "python3",
      "display_name": "Python 3"
    },
    "language_info": {
      "name": "python"
    }
  },
  "cells": [
    {
      "cell_type": "markdown",
      "metadata": {
        "id": "view-in-github",
        "colab_type": "text"
      },
      "source": [
        "<a href=\"https://colab.research.google.com/github/denshanif/Python_Basics-FCPython/blob/main/learn_4.ipynb\" target=\"_parent\"><img src=\"https://colab.research.google.com/assets/colab-badge.svg\" alt=\"Open In Colab\"/></a>"
      ]
    },
    {
      "cell_type": "code",
      "execution_count": null,
      "metadata": {
        "id": "_FYpN4mfu4yQ"
      },
      "outputs": [],
      "source": [
        "TeamA = [\"Salah\", \"Firmino\", \"Mane\"]"
      ]
    },
    {
      "cell_type": "code",
      "source": [
        "print(\"Welcome to the club, \" + TeamA[0])\n",
        "print(\"Welcome to the club, \" + TeamA[1])\n",
        "print(\"Welcome to the club, \" + TeamA[2])"
      ],
      "metadata": {
        "colab": {
          "base_uri": "https://localhost:8080/"
        },
        "id": "Z2B-a7oTvE2x",
        "outputId": "cd07ec7e-3f89-48fe-e198-0ac42c2dc402"
      },
      "execution_count": null,
      "outputs": [
        {
          "output_type": "stream",
          "name": "stdout",
          "text": [
            "Welcome to the club, Salah\n",
            "Welcome to the club, Firmino\n",
            "Welcome to the club, Mane\n"
          ]
        }
      ]
    },
    {
      "cell_type": "code",
      "source": [
        "for player in TeamA:\n",
        "  print(\"Welcome to the club, \" + player)"
      ],
      "metadata": {
        "colab": {
          "base_uri": "https://localhost:8080/"
        },
        "id": "xIbTdAFBvVRI",
        "outputId": "f286ccc2-6d14-4011-e52f-117a6ac8719b"
      },
      "execution_count": null,
      "outputs": [
        {
          "output_type": "stream",
          "name": "stdout",
          "text": [
            "Welcome to the club, Salah\n",
            "Welcome to the club, Firmino\n",
            "Welcome to the club, Mane\n"
          ]
        }
      ]
    },
    {
      "cell_type": "code",
      "source": [
        "TeamB = [\"Fabinho\", \"Henderson\", \"Thiago\"]\n",
        "\n",
        "Teams = [TeamA, TeamB]\n",
        "\n",
        "for team in Teams:\n",
        "  for player in team:\n",
        "    print(\"Welcome to the club, \" + player)"
      ],
      "metadata": {
        "colab": {
          "base_uri": "https://localhost:8080/"
        },
        "id": "hzJeH_Gqvg9A",
        "outputId": "c7656748-e7a2-46cc-c7d7-1fafba83316a"
      },
      "execution_count": null,
      "outputs": [
        {
          "output_type": "stream",
          "name": "stdout",
          "text": [
            "Welcome to the club, Salah\n",
            "Welcome to the club, Firmino\n",
            "Welcome to the club, Mane\n",
            "Welcome to the club, Fabinho\n",
            "Welcome to the club, Henderson\n",
            "Welcome to the club, Thiago\n"
          ]
        }
      ]
    }
  ]
}