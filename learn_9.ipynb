{
  "nbformat": 4,
  "nbformat_minor": 0,
  "metadata": {
    "colab": {
      "name": "learn-9.ipynb",
      "provenance": [],
      "authorship_tag": "ABX9TyNHlmQqy3S4T9+Um46NMFto",
      "include_colab_link": true
    },
    "kernelspec": {
      "name": "python3",
      "display_name": "Python 3"
    },
    "language_info": {
      "name": "python"
    }
  },
  "cells": [
    {
      "cell_type": "markdown",
      "metadata": {
        "id": "view-in-github",
        "colab_type": "text"
      },
      "source": [
        "<a href=\"https://colab.research.google.com/github/denshanif/Python_Basics-FCPython/blob/main/learn_9.ipynb\" target=\"_parent\"><img src=\"https://colab.research.google.com/assets/colab-badge.svg\" alt=\"Open In Colab\"/></a>"
      ]
    },
    {
      "cell_type": "code",
      "execution_count": null,
      "metadata": {
        "colab": {
          "base_uri": "https://localhost:8080/"
        },
        "id": "99lDFBSSV1js",
        "outputId": "7ca54eb7-8b2c-47b0-ffa7-39d936c8ce2d"
      },
      "outputs": [
        {
          "output_type": "execute_result",
          "data": {
            "text/plain": [
              "4"
            ]
          },
          "metadata": {},
          "execution_count": 1
        }
      ],
      "source": [
        "def doubleMe(number):\n",
        "  return number*2\n",
        "\n",
        "doubleMe(2)"
      ]
    },
    {
      "cell_type": "code",
      "source": [
        "def newTweet(player, action, success):\n",
        "  tweet = player + \" plays a \" + action + \".\"\n",
        "  if (success):\n",
        "    if action == \"pass\":\n",
        "      tweet += \" The team keep possession\"\n",
        "    elif action == \"shot\":\n",
        "      tweet += \" GOOOOAAAALLLL\"\n",
        "  else:\n",
        "    if action == \"pass\":\n",
        "      tweet += \" The pass is unsuccessful\"\n",
        "    elif action == \"shot\":\n",
        "      tweet += \" No goal this time!\"\n",
        "  return tweet\n",
        "\n",
        "newTweet(\"Pirlo\", \"shot\", True)"
      ],
      "metadata": {
        "colab": {
          "base_uri": "https://localhost:8080/",
          "height": 35
        },
        "id": "RWcxzIh4Xrrx",
        "outputId": "976e7115-27c4-47d3-9e4a-8769710413a6"
      },
      "execution_count": null,
      "outputs": [
        {
          "output_type": "execute_result",
          "data": {
            "application/vnd.google.colaboratory.intrinsic+json": {
              "type": "string"
            },
            "text/plain": [
              "'Pirlo plays a shot. GOOOOAAAALLLL'"
            ]
          },
          "metadata": {},
          "execution_count": 3
        }
      ]
    }
  ]
}