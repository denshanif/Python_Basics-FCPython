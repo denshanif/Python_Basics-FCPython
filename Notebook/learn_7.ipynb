{
  "nbformat": 4,
  "nbformat_minor": 0,
  "metadata": {
    "colab": {
      "name": "learn-7.ipynb",
      "provenance": [],
      "authorship_tag": "ABX9TyP2cpgqXwQgQ0eRvksTK3v4",
      "include_colab_link": true
    },
    "kernelspec": {
      "name": "python3",
      "display_name": "Python 3"
    },
    "language_info": {
      "name": "python"
    }
  },
  "cells": [
    {
      "cell_type": "markdown",
      "metadata": {
        "id": "view-in-github",
        "colab_type": "text"
      },
      "source": [
        "<a href=\"https://colab.research.google.com/github/denshanif/Python_Basics-FCPython/blob/main/learn_7.ipynb\" target=\"_parent\"><img src=\"https://colab.research.google.com/assets/colab-badge.svg\" alt=\"Open In Colab\"/></a>"
      ]
    },
    {
      "cell_type": "code",
      "execution_count": 1,
      "metadata": {
        "colab": {
          "base_uri": "https://localhost:8080/"
        },
        "id": "C2vKP_H7MtlA",
        "outputId": "7aa3fee2-d930-4e0d-9622-0c5ee99cd310"
      },
      "outputs": [
        {
          "output_type": "execute_result",
          "data": {
            "text/plain": [
              "{'Long Sleeves': True, 'Name': 'Lucashino', 'Number': 8}"
            ]
          },
          "metadata": {},
          "execution_count": 1
        }
      ],
      "source": [
        "PlayerOne = {\"Name\":\"Lucashino\",\n",
        "             \"Number\":8,\n",
        "             \"Long Sleeves\":True}\n",
        "\n",
        "PlayerOne"
      ]
    },
    {
      "cell_type": "code",
      "source": [
        "PlayerOne[\"Number\"]"
      ],
      "metadata": {
        "colab": {
          "base_uri": "https://localhost:8080/"
        },
        "id": "8pIux-OdNJ-k",
        "outputId": "aa89c7f4-af77-4666-d2b9-0764527638c3"
      },
      "execution_count": 2,
      "outputs": [
        {
          "output_type": "execute_result",
          "data": {
            "text/plain": [
              "8"
            ]
          },
          "metadata": {},
          "execution_count": 2
        }
      ]
    },
    {
      "cell_type": "code",
      "source": [
        "PlayerOne[\"Long Sleeves\"] = False\n",
        "PlayerOne[\"Size\"] = \"Medium\"\n",
        "\n",
        "PlayerOne"
      ],
      "metadata": {
        "colab": {
          "base_uri": "https://localhost:8080/"
        },
        "id": "XbTOngdtNN9J",
        "outputId": "0d77c6dc-1677-4b1a-bfa6-2b2eee667f85"
      },
      "execution_count": 3,
      "outputs": [
        {
          "output_type": "execute_result",
          "data": {
            "text/plain": [
              "{'Long Sleeves': False, 'Name': 'Lucashino', 'Number': 8, 'Size': 'Medium'}"
            ]
          },
          "metadata": {},
          "execution_count": 3
        }
      ]
    },
    {
      "cell_type": "code",
      "source": [
        "del PlayerOne[\"Size\"]\n",
        "\n",
        "PlayerOne"
      ],
      "metadata": {
        "colab": {
          "base_uri": "https://localhost:8080/"
        },
        "id": "daYdpvLQNeJD",
        "outputId": "b8f54096-cfcc-4219-d12b-713fa2b2b089"
      },
      "execution_count": 4,
      "outputs": [
        {
          "output_type": "execute_result",
          "data": {
            "text/plain": [
              "{'Long Sleeves': False, 'Name': 'Lucashino', 'Number': 8}"
            ]
          },
          "metadata": {},
          "execution_count": 4
        }
      ]
    },
    {
      "cell_type": "code",
      "source": [
        "PlayerOne.clear()\n",
        "\n",
        "PlayerOne"
      ],
      "metadata": {
        "colab": {
          "base_uri": "https://localhost:8080/"
        },
        "id": "mKK9czl0Nkss",
        "outputId": "9d113f87-d37f-41aa-d839-abf6078c93fd"
      },
      "execution_count": 5,
      "outputs": [
        {
          "output_type": "execute_result",
          "data": {
            "text/plain": [
              "{}"
            ]
          },
          "metadata": {},
          "execution_count": 5
        }
      ]
    }
  ]
}