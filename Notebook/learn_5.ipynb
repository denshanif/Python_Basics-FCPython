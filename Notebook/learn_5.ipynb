{
  "nbformat": 4,
  "nbformat_minor": 0,
  "metadata": {
    "colab": {
      "name": "learn-5.ipynb",
      "provenance": [],
      "authorship_tag": "ABX9TyPGFqYdN1m2Lq+84/63xK7F",
      "include_colab_link": true
    },
    "kernelspec": {
      "name": "python3",
      "display_name": "Python 3"
    },
    "language_info": {
      "name": "python"
    }
  },
  "cells": [
    {
      "cell_type": "markdown",
      "metadata": {
        "id": "view-in-github",
        "colab_type": "text"
      },
      "source": [
        "<a href=\"https://colab.research.google.com/github/denshanif/Python_Basics-FCPython/blob/main/learn_5.ipynb\" target=\"_parent\"><img src=\"https://colab.research.google.com/assets/colab-badge.svg\" alt=\"Open In Colab\"/></a>"
      ]
    },
    {
      "cell_type": "code",
      "execution_count": 1,
      "metadata": {
        "colab": {
          "base_uri": "https://localhost:8080/"
        },
        "id": "36A-gstyv6JG",
        "outputId": "b6cd37d6-a7d6-4f9c-c494-81a35a2ffbc1"
      },
      "outputs": [
        {
          "output_type": "stream",
          "name": "stdout",
          "text": [
            "45 played, it is half-time!\n"
          ]
        }
      ],
      "source": [
        "watchMinutes = 0\n",
        "\n",
        "while watchMinutes < 45:\n",
        "  watchMinutes += 1\n",
        "\n",
        "print(str(watchMinutes) + \" played, it is half-time!\")"
      ]
    },
    {
      "cell_type": "code",
      "source": [
        "import random\n",
        "\n",
        "keepPossession = True\n",
        "passSkill = 66\n",
        "passesComplete = 0\n",
        "\n",
        "while keepPossession == True:\n",
        "  if random.randint(0,100) > passSkill:\n",
        "    keepPossession = False\n",
        "  else:\n",
        "    passesComplete += 1\n",
        "\n",
        "print(passesComplete)"
      ],
      "metadata": {
        "colab": {
          "base_uri": "https://localhost:8080/"
        },
        "id": "rs809acezRb3",
        "outputId": "c2c490e7-f795-40bd-e80d-80a4ec636978"
      },
      "execution_count": 2,
      "outputs": [
        {
          "output_type": "stream",
          "name": "stdout",
          "text": [
            "1\n"
          ]
        }
      ]
    }
  ]
}