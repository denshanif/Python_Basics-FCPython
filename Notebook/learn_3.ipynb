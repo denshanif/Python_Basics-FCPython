{
  "nbformat": 4,
  "nbformat_minor": 0,
  "metadata": {
    "colab": {
      "name": "learn-3.ipynb",
      "provenance": [],
      "authorship_tag": "ABX9TyNrG1qhil98UAkFM9qa8ddF",
      "include_colab_link": true
    },
    "kernelspec": {
      "name": "python3",
      "display_name": "Python 3"
    },
    "language_info": {
      "name": "python"
    }
  },
  "cells": [
    {
      "cell_type": "markdown",
      "metadata": {
        "id": "view-in-github",
        "colab_type": "text"
      },
      "source": [
        "<a href=\"https://colab.research.google.com/github/denshanif/Python_Basics-FCPython/blob/main/learn_3.ipynb\" target=\"_parent\"><img src=\"https://colab.research.google.com/assets/colab-badge.svg\" alt=\"Open In Colab\"/></a>"
      ]
    },
    {
      "cell_type": "code",
      "execution_count": 2,
      "metadata": {
        "colab": {
          "base_uri": "https://localhost:8080/"
        },
        "id": "AytPdi_GglKu",
        "outputId": "11b70607-7bd0-4871-a8ff-5ee03480a5f0"
      },
      "outputs": [
        {
          "output_type": "stream",
          "name": "stdout",
          "text": [
            "Done!\n"
          ]
        }
      ],
      "source": [
        "if 11 > 10:\n",
        "  print(\"Done!\")"
      ]
    },
    {
      "cell_type": "code",
      "source": [
        "if 9 > 10:\n",
        "  print(\"Done!\")"
      ],
      "metadata": {
        "id": "hxJ5DnFtg28Q"
      },
      "execution_count": 5,
      "outputs": []
    },
    {
      "cell_type": "code",
      "source": [
        "if 9 > 10:\n",
        "  print(\"Done!\")\n",
        "else:\n",
        "  print(\"That was false!\")"
      ],
      "metadata": {
        "colab": {
          "base_uri": "https://localhost:8080/"
        },
        "id": "QSWhWrPAhBkI",
        "outputId": "85c44662-3992-4eb4-8ef9-7f90c4cfe1df"
      },
      "execution_count": 6,
      "outputs": [
        {
          "output_type": "stream",
          "name": "stdout",
          "text": [
            "That was false!\n"
          ]
        }
      ]
    },
    {
      "cell_type": "code",
      "source": [
        "NewcastleScore = 0\n",
        "OpponentScore = 0\n",
        "\n",
        "if NewcastleScore < OpponentScore:\n",
        "  print(\"ATTACK!\")\n",
        "else:\n",
        "  print(\"10 men behind the ball!\")"
      ],
      "metadata": {
        "colab": {
          "base_uri": "https://localhost:8080/"
        },
        "id": "lbFzAMXdhRtJ",
        "outputId": "b611e8dd-3033-460b-f1c4-c13ef38ef872"
      },
      "execution_count": 7,
      "outputs": [
        {
          "output_type": "stream",
          "name": "stdout",
          "text": [
            "10 men behind the ball!\n"
          ]
        }
      ]
    },
    {
      "cell_type": "code",
      "source": [
        "NewcastleScore = 0\n",
        "OpponentScore = 0\n",
        "\n",
        "if NewcastleScore < OpponentScore:\n",
        "  print(\"ATTACK!\")\n",
        "elif NewcastleScore == OpponentScore:\n",
        "  print(\"Stay solid!\")\n",
        "else:\n",
        "  print(\"10 men behind the ball!\")"
      ],
      "metadata": {
        "colab": {
          "base_uri": "https://localhost:8080/"
        },
        "id": "rNhNT4OJh0t_",
        "outputId": "52d20a8e-b004-40a3-982d-44f249db6268"
      },
      "execution_count": 11,
      "outputs": [
        {
          "output_type": "stream",
          "name": "stdout",
          "text": [
            "Stay solid!\n"
          ]
        }
      ]
    }
  ]
}