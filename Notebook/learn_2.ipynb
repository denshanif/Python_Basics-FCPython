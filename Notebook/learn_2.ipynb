{
  "nbformat": 4,
  "nbformat_minor": 0,
  "metadata": {
    "colab": {
      "name": "learn-2.ipynb",
      "provenance": [],
      "authorship_tag": "ABX9TyNvRBVXxxZAqQPv+1WdRfEr",
      "include_colab_link": true
    },
    "kernelspec": {
      "name": "python3",
      "display_name": "Python 3"
    },
    "language_info": {
      "name": "python"
    }
  },
  "cells": [
    {
      "cell_type": "markdown",
      "metadata": {
        "id": "view-in-github",
        "colab_type": "text"
      },
      "source": [
        "<a href=\"https://colab.research.google.com/github/denshanif/Python_Basics-FCPython/blob/main/learn_2.ipynb\" target=\"_parent\"><img src=\"https://colab.research.google.com/assets/colab-badge.svg\" alt=\"Open In Colab\"/></a>"
      ]
    },
    {
      "cell_type": "code",
      "execution_count": 1,
      "metadata": {
        "colab": {
          "base_uri": "https://localhost:8080/"
        },
        "id": "Pld6LCTU7AEM",
        "outputId": "820d383d-e6b7-40df-9def-5365a784db88"
      },
      "outputs": [
        {
          "output_type": "execute_result",
          "data": {
            "text/plain": [
              "True"
            ]
          },
          "metadata": {},
          "execution_count": 1
        }
      ],
      "source": [
        "# Is four greater than three?\n",
        "4 > 3"
      ]
    },
    {
      "cell_type": "code",
      "source": [
        "# Is four less than three?\n",
        "4 < 3"
      ],
      "metadata": {
        "colab": {
          "base_uri": "https://localhost:8080/"
        },
        "id": "Yoi12S4i7fRc",
        "outputId": "898c8990-5169-461b-fa71-21370800a41a"
      },
      "execution_count": 2,
      "outputs": [
        {
          "output_type": "execute_result",
          "data": {
            "text/plain": [
              "False"
            ]
          },
          "metadata": {},
          "execution_count": 2
        }
      ]
    },
    {
      "cell_type": "code",
      "source": [
        "#Is 20 less than or equal to 21?\n",
        "20 <= 21"
      ],
      "metadata": {
        "colab": {
          "base_uri": "https://localhost:8080/"
        },
        "id": "I1tniBb37kqN",
        "outputId": "5039522e-6777-4ee6-b255-b36b812c8498"
      },
      "execution_count": 3,
      "outputs": [
        {
          "output_type": "execute_result",
          "data": {
            "text/plain": [
              "True"
            ]
          },
          "metadata": {},
          "execution_count": 3
        }
      ]
    },
    {
      "cell_type": "code",
      "source": [
        "# Does 44 equal 44? We use 2 equals signs here!\n",
        "44 == 44"
      ],
      "metadata": {
        "colab": {
          "base_uri": "https://localhost:8080/"
        },
        "id": "6dvz_FYV7r4p",
        "outputId": "c0408673-0074-4e75-fc67-3bceb8965b34"
      },
      "execution_count": 4,
      "outputs": [
        {
          "output_type": "execute_result",
          "data": {
            "text/plain": [
              "True"
            ]
          },
          "metadata": {},
          "execution_count": 4
        }
      ]
    },
    {
      "cell_type": "code",
      "source": [
        "# Our skill ranking system assigns two players a ranking, Who is better?\n",
        "\n",
        "Gerrard = 99\n",
        "Lampard = 98\n",
        "\n",
        "Gerrard > Lampard"
      ],
      "metadata": {
        "colab": {
          "base_uri": "https://localhost:8080/"
        },
        "id": "3CIynNRI71rA",
        "outputId": "07351b61-e09e-424a-b417-8fbf76686dd7"
      },
      "execution_count": 5,
      "outputs": [
        {
          "output_type": "execute_result",
          "data": {
            "text/plain": [
              "True"
            ]
          },
          "metadata": {},
          "execution_count": 5
        }
      ]
    },
    {
      "cell_type": "code",
      "source": [
        "# Garrerd = 99 and Landard = 98 as in the last example\n",
        "# Check that Garrerd is better AND that can we afford them?\n",
        "\n",
        "Budget = 5000000\n",
        "PlayerCost = 4000000\n",
        "\n",
        "(Gerrard > Lampard) and (Budget >= PlayerCost)"
      ],
      "metadata": {
        "colab": {
          "base_uri": "https://localhost:8080/"
        },
        "id": "h_vpAxUq8GTH",
        "outputId": "f5263cbd-951c-42a6-a943-6a815ddab49c"
      },
      "execution_count": 6,
      "outputs": [
        {
          "output_type": "execute_result",
          "data": {
            "text/plain": [
              "True"
            ]
          },
          "metadata": {},
          "execution_count": 6
        }
      ]
    },
    {
      "cell_type": "code",
      "source": [
        "HerderGoals = 9\n",
        "HerderAssists = 16\n",
        "\n",
        "(HerderGoals > 10) or (HerderAssists >= 15)"
      ],
      "metadata": {
        "colab": {
          "base_uri": "https://localhost:8080/"
        },
        "id": "7tckbH3M8dH_",
        "outputId": "5e328429-b0bc-44a5-8b0e-8a753fcb9230"
      },
      "execution_count": 7,
      "outputs": [
        {
          "output_type": "execute_result",
          "data": {
            "text/plain": [
              "True"
            ]
          },
          "metadata": {},
          "execution_count": 7
        }
      ]
    },
    {
      "cell_type": "code",
      "source": [
        "MertaGoals = 5\n",
        "MertaAssists = 10\n",
        "MertaRedCards = 3\n",
        "\n",
        "(MertaGoals > 5) or ((MertaAssists >= 5) and (MertaRedCards < 3))"
      ],
      "metadata": {
        "colab": {
          "base_uri": "https://localhost:8080/"
        },
        "id": "OYadS6cW8wiB",
        "outputId": "8f94a9fd-7d90-4d2d-e815-1816603c137e"
      },
      "execution_count": 8,
      "outputs": [
        {
          "output_type": "execute_result",
          "data": {
            "text/plain": [
              "False"
            ]
          },
          "metadata": {},
          "execution_count": 8
        }
      ]
    }
  ]
}