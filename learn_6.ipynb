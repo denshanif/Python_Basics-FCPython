{
  "nbformat": 4,
  "nbformat_minor": 0,
  "metadata": {
    "colab": {
      "name": "learn-6.ipynb",
      "provenance": [],
      "authorship_tag": "ABX9TyOd5plxyKNSmr9JTuMrMl34",
      "include_colab_link": true
    },
    "kernelspec": {
      "name": "python3",
      "display_name": "Python 3"
    },
    "language_info": {
      "name": "python"
    }
  },
  "cells": [
    {
      "cell_type": "markdown",
      "metadata": {
        "id": "view-in-github",
        "colab_type": "text"
      },
      "source": [
        "<a href=\"https://colab.research.google.com/github/denshanif/Python_Basics-FCPython/blob/main/learn_6.ipynb\" target=\"_parent\"><img src=\"https://colab.research.google.com/assets/colab-badge.svg\" alt=\"Open In Colab\"/></a>"
      ]
    },
    {
      "cell_type": "code",
      "execution_count": 1,
      "metadata": {
        "colab": {
          "base_uri": "https://localhost:8080/"
        },
        "id": "QNJkBgMwz-Z-",
        "outputId": "df679726-0881-4385-9d96-a09bca85d1f4"
      },
      "outputs": [
        {
          "output_type": "stream",
          "name": "stdout",
          "text": [
            "[0, 0, 3, 2, 1, 5, 3, 1, 2]\n",
            "[2, 0, 2, 2, 3, 2, 3, 2, 4]\n"
          ]
        }
      ],
      "source": [
        "GF = [0,0,3,2,1,5,3,1,2]\n",
        "GA = [2,0,2,2,3,2,3,2,4]\n",
        "\n",
        "print(GF)\n",
        "print(GA)"
      ]
    },
    {
      "cell_type": "code",
      "source": [
        "print(GF[0])\n",
        "print(GA[0])"
      ],
      "metadata": {
        "colab": {
          "base_uri": "https://localhost:8080/"
        },
        "id": "ABJdq3I_1KGt",
        "outputId": "2855394c-76f5-451b-e158-c7c33400c286"
      },
      "execution_count": 2,
      "outputs": [
        {
          "output_type": "stream",
          "name": "stdout",
          "text": [
            "0\n",
            "2\n"
          ]
        }
      ]
    },
    {
      "cell_type": "code",
      "source": [
        "GF[0] - GA[0]"
      ],
      "metadata": {
        "colab": {
          "base_uri": "https://localhost:8080/"
        },
        "id": "oqkQkrIE1P7T",
        "outputId": "13e16895-9c76-45b0-8d57-f9ca7912a17b"
      },
      "execution_count": 3,
      "outputs": [
        {
          "output_type": "execute_result",
          "data": {
            "text/plain": [
              "-2"
            ]
          },
          "metadata": {},
          "execution_count": 3
        }
      ]
    },
    {
      "cell_type": "code",
      "source": [
        "p = 0\n",
        "GD = 0\n",
        "GF = [0,0,3,2,1,5,3,1,2]\n",
        "GA = [2,0,2,2,3,2,3,2,4]\n",
        "\n",
        "for i in range(9):\n",
        "  if GF[i] > GA[i]:\n",
        "    p += 3\n",
        "    GD += (GF[i] - GA[i])\n",
        "  elif GF[i] == GA[i]:\n",
        "    p += 1\n",
        "  else:\n",
        "    GD += (GF[i] - GA[i])\n",
        "\n",
        "print(p)\n",
        "print(GD)"
      ],
      "metadata": {
        "colab": {
          "base_uri": "https://localhost:8080/"
        },
        "id": "Ivvyz9wB1VhJ",
        "outputId": "9c6a7d39-b88f-4311-a3bc-71896020b260"
      },
      "execution_count": 5,
      "outputs": [
        {
          "output_type": "stream",
          "name": "stdout",
          "text": [
            "9\n",
            "-3\n"
          ]
        }
      ]
    },
    {
      "cell_type": "code",
      "source": [
        "list (range(10))"
      ],
      "metadata": {
        "colab": {
          "base_uri": "https://localhost:8080/"
        },
        "id": "20Xn6QHj3R6V",
        "outputId": "4d2af878-a121-4068-b210-3e4c7e516891"
      },
      "execution_count": 7,
      "outputs": [
        {
          "output_type": "execute_result",
          "data": {
            "text/plain": [
              "[0, 1, 2, 3, 4, 5, 6, 7, 8, 9]"
            ]
          },
          "metadata": {},
          "execution_count": 7
        }
      ]
    },
    {
      "cell_type": "code",
      "source": [
        "list (range(5,10))"
      ],
      "metadata": {
        "colab": {
          "base_uri": "https://localhost:8080/"
        },
        "id": "-JRz20Zd3ZTb",
        "outputId": "6721a1c3-639c-4235-918b-57f0ed5eb2d5"
      },
      "execution_count": 8,
      "outputs": [
        {
          "output_type": "execute_result",
          "data": {
            "text/plain": [
              "[5, 6, 7, 8, 9]"
            ]
          },
          "metadata": {},
          "execution_count": 8
        }
      ]
    },
    {
      "cell_type": "code",
      "source": [
        "list (range(0,10,2))"
      ],
      "metadata": {
        "colab": {
          "base_uri": "https://localhost:8080/"
        },
        "id": "1jp5TU-13fK-",
        "outputId": "ec609227-8d5d-4db5-ed01-d7c599f3fe2e"
      },
      "execution_count": 9,
      "outputs": [
        {
          "output_type": "execute_result",
          "data": {
            "text/plain": [
              "[0, 2, 4, 6, 8]"
            ]
          },
          "metadata": {},
          "execution_count": 9
        }
      ]
    },
    {
      "cell_type": "code",
      "source": [
        "Players = [\"Didek\",\"Bascin\",\"Smacer\",\"Boras\",\"Finnon\"]\n",
        "\n",
        "print(Players[3])\n",
        "\n",
        "print(Players[1:4])"
      ],
      "metadata": {
        "colab": {
          "base_uri": "https://localhost:8080/"
        },
        "id": "OFVA5tvx3sZJ",
        "outputId": "3ccdc671-dd99-49b0-f0bb-349b07c6cafd"
      },
      "execution_count": 10,
      "outputs": [
        {
          "output_type": "stream",
          "name": "stdout",
          "text": [
            "Boras\n",
            "['Bascin', 'Smacer', 'Boras']\n"
          ]
        }
      ]
    },
    {
      "cell_type": "code",
      "source": [
        "GF = [0,0,3,2,1,5,3,1,2]\n",
        "GA = [2,0,2,2,3,2,3,2,4]\n",
        "\n",
        "GF.append(3)\n",
        "GA.append(1)\n",
        "\n",
        "print(GF)\n",
        "print(GA)"
      ],
      "metadata": {
        "colab": {
          "base_uri": "https://localhost:8080/"
        },
        "id": "88sXOEYtL8bv",
        "outputId": "d767529b-6bec-4d6a-ab51-1de5dd28b316"
      },
      "execution_count": 1,
      "outputs": [
        {
          "output_type": "stream",
          "name": "stdout",
          "text": [
            "[0, 0, 3, 2, 1, 5, 3, 1, 2, 3]\n",
            "[2, 0, 2, 2, 3, 2, 3, 2, 4, 1]\n"
          ]
        }
      ]
    },
    {
      "cell_type": "code",
      "source": [
        "GF = [0, 0, 3, 2, 1, 5, 3, 1, 2, 3]\n",
        "GA = [2, 0, 2, 2, 3, 2, 3, 2, 4, 1]\n",
        "\n",
        "GF.reverse()\n",
        "GA.reverse()\n",
        "\n",
        "print(GF[0:5])\n",
        "print(GA[0:5])"
      ],
      "metadata": {
        "colab": {
          "base_uri": "https://localhost:8080/"
        },
        "id": "8X3ztG3jMV03",
        "outputId": "10894fd5-0b67-4489-9da4-cb72687bc8de"
      },
      "execution_count": 2,
      "outputs": [
        {
          "output_type": "stream",
          "name": "stdout",
          "text": [
            "[3, 2, 1, 3, 5]\n",
            "[1, 4, 2, 3, 2]\n"
          ]
        }
      ]
    }
  ]
}